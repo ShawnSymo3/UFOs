{
 "cells": [
  {
   "cell_type": "code",
   "execution_count": null,
   "id": "792aa0a7",
   "metadata": {},
   "outputs": [],
   "source": [
    "# Import Dependencies\n",
    "import os\n",
    "import requests\n",
    "from bs4 import BeautifulSoup as bs\n",
    "import pandas as pd\n",
    "from splinter import Browser"
   ]
  },
  {
   "cell_type": "code",
   "execution_count": null,
   "id": "fd8e0676",
   "metadata": {},
   "outputs": [],
   "source": [
    " executable_path = {'executable_path': 'chromedriver.exe'}\n",
    " browser = Browser('chrome', **executable_path, headless=False)"
   ]
  },
  {
   "cell_type": "code",
   "execution_count": null,
   "id": "84c1d3d8",
   "metadata": {},
   "outputs": [],
   "source": [
    "#Visit Nasa News url  using splinter module\n",
    "\n",
    "Nasa_url = 'https://mars.nasa.gov/news/'\n",
    "browser.visit(Nasa_url)\n",
    "#create HTMl Object\n",
    "html = browser.html\n",
    "#parse HTML with beautiful soup\n",
    "Nasa_soup = bs(html, 'html.parser')\n",
    "\n",
    "# Extract title text\n",
    "nasa_news_title = Nasa_soup.find('div',class_='content_title').find('a').text\n",
    "print(nasa_news_title)\n",
    "# Extract Paragraph text\n",
    "nasa_news_paragraph=Nasa_soup.find('div',class_='article_teaser_body').text\n",
    "print(nasa_news_paragraph)"
   ]
  },
  {
   "cell_type": "code",
   "execution_count": null,
   "id": "116dde06",
   "metadata": {},
   "outputs": [],
   "source": [
    "#Visit Nasa's JPL Mars Space url  using splinter module\n",
    "jplNasa_url='https://www.jpl.nasa.gov/spaceimages/?search=&category=Mars'\n",
    "browser.visit(jplNasa_url)\n",
    "#create HTML object\n",
    "html = browser.html\n",
    "soup = bs(html, 'html.parser')\n",
    "\n",
    "#get base Nasa link\n",
    "main_url ='https://www.jpl.nasa.gov'\n",
    "#get image url from the soup object.\n",
    "featured_image_url = soup.find('article')['style'].replace('background-image: url(','').replace(');', '')[1:-1]\n",
    "\n",
    "#Create one full image url link\n",
    "featured_image_url=main_url+featured_image_url\n",
    "print(featured_image_url )"
   ]
  },
  {
   "cell_type": "code",
   "execution_count": null,
   "id": "afbd30bf",
   "metadata": {},
   "outputs": [],
   "source": [
    "#Visit the Mars Weather twitter account\n",
    "Tweet_url='https://twitter.com/marswxreport?lang=en'\n",
    "# Retrieve page with the requests module\n",
    "browser.visit(Tweet_url)\n",
    "#create HTML object\n",
    "html=browser.html\n",
    "twit_soup=bs(html,'html.parser')\n",
    "\n",
    "# Extract title text\n",
    "mars_weather = twit_soup.find('p',class_='TweetTextSize')\n",
    "print('mars_weather = '+ mars_weather.text)"
   ]
  },
  {
   "cell_type": "code",
   "execution_count": null,
   "id": "a1a5edd8",
   "metadata": {},
   "outputs": [],
   "source": [
    "# Visit the Mars Facts webpage\n",
    "mars_facts='https://space-facts.com/mars/'\n",
    "mars_fact_table=pd.read_html(mars_facts)\n",
    "\n",
    "#Create Dataframe to store table data\n",
    "df = mars_fact_table[0]\n",
    "df.columns = ['Mars-Earth Comparison', 'Mars', 'Earth']\n",
    "html_table = df.to_html()\n",
    "html_table"
   ]
  },
  {
   "cell_type": "code",
   "execution_count": null,
   "id": "e81533b1",
   "metadata": {},
   "outputs": [],
   "source": [
    "# Visit the USGS Astrogeology site\n",
    "USGS_url=\"https://astrogeology.usgs.gov/search/results?q=hemisphere+enhanced&k1=target&v1=Mars\"\n",
    "short_url=\"https://astrogeology.usgs.gov\""
   ]
  },
  {
   "cell_type": "code",
   "execution_count": null,
   "id": "456a8554",
   "metadata": {},
   "outputs": [],
   "source": [
    "browser.visit(USGS_url)\n",
    "html = browser.html\n",
    "soup = bs(html, 'html.parser')\n",
    "main_url = soup.find_all('div', class_='item')\n",
    "titles=[]\n",
    "hemisphere_img_urls=[] "
   ]
  },
  {
   "cell_type": "code",
   "execution_count": null,
   "id": "04b86f58",
   "metadata": {},
   "outputs": [],
   "source": [
    "for x in main_url:\n",
    "    title = x.find('h3').text\n",
    "    url = x.find('a')['href']\n",
    "    hem_img_url= short_url+url\n",
    "    #print(hem_img_url)\n",
    "    browser.visit(hem_img_url)\n",
    "    html = browser.html\n",
    "    soup = bs(html, 'html.parser')\n",
    "    hemisphere_img_original= soup.find('div',class_='downloads')\n",
    "    hemisphere_img_url=hemisphere_img_original.find('a')['href']\n",
    "    \n",
    "    print(hemisphere_img_url)\n",
    "    img_data=dict({'title':title, 'img_url':hemisphere_img_url})\n",
    "    hemisphere_img_urls.append(img_data)"
   ]
  },
  {
   "cell_type": "code",
   "execution_count": null,
   "id": "35ed261e",
   "metadata": {},
   "outputs": [],
   "source": [
    "hemisphere_img_urls"
   ]
  },
  {
   "cell_type": "code",
   "execution_count": null,
   "id": "4523c96d",
   "metadata": {},
   "outputs": [],
   "source": []
  },
  {
   "cell_type": "code",
   "execution_count": null,
   "id": "955bd4dd",
   "metadata": {},
   "outputs": [],
   "source": []
  },
  {
   "cell_type": "code",
   "execution_count": null,
   "id": "d4f89dcb",
   "metadata": {},
   "outputs": [],
   "source": []
  }
 ],
 "metadata": {
  "kernelspec": {
   "display_name": "Python 3 (ipykernel)",
   "language": "python",
   "name": "python3"
  },
  "language_info": {
   "codemirror_mode": {
    "name": "ipython",
    "version": 3
   },
   "file_extension": ".py",
   "mimetype": "text/x-python",
   "name": "python",
   "nbconvert_exporter": "python",
   "pygments_lexer": "ipython3",
   "version": "3.9.7"
  }
 },
 "nbformat": 4,
 "nbformat_minor": 5
}
